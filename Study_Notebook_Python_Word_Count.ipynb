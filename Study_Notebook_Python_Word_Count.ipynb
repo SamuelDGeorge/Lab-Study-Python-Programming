{
 "cells": [
  {
   "cell_type": "markdown",
   "metadata": {
    "editable": false
   },
   "source": [
    "# Python Programming and Various Solutions\n",
    "\n",
    "This exercise will focus on the various ways you can solve a simple Python problem. "
   ]
  },
  {
   "cell_type": "markdown",
   "metadata": {
    "editable": false
   },
   "source": [
    "## Import Helper Package\n",
    "\n",
    "Run the cell below to load packages for the exercise."
   ]
  },
  {
   "cell_type": "code",
   "execution_count": null,
   "metadata": {
    "editable": false
   },
   "outputs": [],
   "source": [
    "# Run this cell\n",
    "from StudyHelper import CheckWordCount,StudySetup"
   ]
  },
  {
   "cell_type": "markdown",
   "metadata": {
    "editable": false
   },
   "source": [
    "## Setup Exercise Variables\n",
    "\n",
    "To help organize the exercise data, please provide a **unique_id** and \n",
    "**course_taken** in the cell below. \n",
    "\n",
    "If you are taking this exercise as part of a course, please use your onyen as **unique_id**. For **course_taken**. give in the format \"\\<Course\\>\\<Semester\\>\\<Year\\>\" each starting with a capital letter. \n",
    "    \n",
    "For example, if you are taking Comp 116 in Fall 2023 set **course_taken** to \"Comp116Fall2023\".\n",
    "\n",
    "Below are values for someone with onyen \"jsmith\" taking Comp 116 in Fall 2023. \n",
    "    \n",
    "unique_id=\"jsmith\"\n",
    "\n",
    "course_taken=\"Comp116Fall2023\"\n",
    "\n",
    "If you are not taking this survey as part of a course, please use a personal identifier as **unique_id** and \"Independent\" as **course_taken**. "
   ]
  },
  {
   "cell_type": "code",
   "execution_count": null,
   "metadata": {},
   "outputs": [],
   "source": [
    "# Edit the below variables and run this cell. \n",
    "\n",
    "unique_id=\"PutUniqueIDHere\"\n",
    "\n",
    "course_taken='FillCourseStringHere'\n"
   ]
  },
  {
   "cell_type": "markdown",
   "metadata": {
    "editable": false
   },
   "source": [
    "## Exercise Startup\n",
    "\n",
    "Run the below cell to prepare for exercise. \n",
    "\n",
    "If you take a break, that is fine, just make sure to re-run the notebook from the top to the cell below. "
   ]
  },
  {
   "cell_type": "code",
   "execution_count": null,
   "metadata": {
    "editable": false
   },
   "outputs": [],
   "source": [
    "# Run this cell before working on study.\n",
    "notebook = \"Study_Notebook_Python_Word_Count.ipynb\"\n",
    "study_identifier = \"Lab_Study_Python_Word_Count_Standalone\"\n",
    "StudySetup(unique_id, course_taken, notebook, study_identifier)"
   ]
  },
  {
   "cell_type": "markdown",
   "metadata": {},
   "source": [
    "## Exercise Answers \n",
    "\n",
    "To submit your answers to the exercise navigate to the URL below and follow along with the the intructions given. \n",
    "\n",
    "https://forms.gle/SHEhcHCVU42UF2yJ8\n",
    "\n",
    "**Note**: Answer all **non-coding** questions in the google form and answer all **coding questions** in **this notebook**."
   ]
  },
  {
   "cell_type": "markdown",
   "metadata": {
    "editable": false
   },
   "source": [
    "# Python Word Count\n",
    "\n",
    "We will start with a python coding problem."
   ]
  },
  {
   "cell_type": "markdown",
   "metadata": {},
   "source": [
    "## Programming Problem\n",
    "\n",
    "### Write a function `word_count` that returns `num_words`, which is the number of words in a string. \n",
    "**You can assume there is no space within a word.**\n",
    "\n",
    "**Note:** Useful string methods are `count()` and `split()` and `endswith()`\n",
    "\n",
    "Solve this problem by filling in the function below. \n",
    " "
   ]
  },
  {
   "cell_type": "code",
   "execution_count": null,
   "metadata": {},
   "outputs": [],
   "source": [
    "# Fill in your answer to the programming problem below. \n",
    "\n",
    "def word_count(temp_text):\n",
    "    '''Return the number of words'''\n",
    "    # num_words: the number of words in the string temp_text\n",
    "    return num_word"
   ]
  },
  {
   "cell_type": "markdown",
   "metadata": {
    "editable": false
   },
   "source": [
    "# Exercises"
   ]
  },
  {
   "cell_type": "markdown",
   "metadata": {
    "editable": false
   },
   "source": [
    "## Question 1\n",
    "\n",
    "Below you are given several cells to fill in the `word_count` method. For this section, you will be implementing the method in 3 different ways. \n",
    "\n",
    "For each implementation, you will be given the ChatGPT description of the algorithm used in the method. Use this description to write the given implementation to the best of your ability. "
   ]
  },
  {
   "cell_type": "markdown",
   "metadata": {
    "editable": false
   },
   "source": [
    "### Question 1.1 - Split Approach - ChatGPT Description"
   ]
  },
  {
   "cell_type": "markdown",
   "metadata": {
    "editable": false
   },
   "source": [
    "To count the number of words, the function first splits the string using the `split()` method, which divides the string into a list of words based on spaces. Then, it uses the `len()` function to determine the number of words in the resulting list, which is equivalent to the number of words in the original string. Finally, the function returns this number."
   ]
  },
  {
   "cell_type": "markdown",
   "metadata": {
    "editable": false
   },
   "source": [
    "### Question 1.1 - Split Approach - Code Solution "
   ]
  },
  {
   "cell_type": "code",
   "execution_count": null,
   "metadata": {},
   "outputs": [],
   "source": [
    "## Write your code solution here. \n",
    "\n",
    "def word_count(temp_text):\n",
    "    '''Return the number of words'''\n",
    "    # num_words: the number of words in the string temp_text\n",
    "    return num_word"
   ]
  },
  {
   "cell_type": "code",
   "execution_count": null,
   "metadata": {
    "editable": false
   },
   "outputs": [],
   "source": [
    "# Run this cell to check your solution.\n",
    "\n",
    "test_text = \"This sentence will be used to check your answer. It is not a long sentence.\"\n",
    "\n",
    "CheckWordCount(word_count, test_text)"
   ]
  },
  {
   "cell_type": "markdown",
   "metadata": {
    "editable": false
   },
   "source": [
    "### Question 1.2 - Count Approach - ChatGPT Description"
   ]
  },
  {
   "cell_type": "markdown",
   "metadata": {
    "editable": false
   },
   "source": [
    "To count the number of words, the function first uses the `count()` method on the string to count the number of spaces in the string. This will give us the number of gaps between the words in the string. Adding 1 to this count gives us the number of words in the string, since the number of words is always one more than the number of gaps between them."
   ]
  },
  {
   "cell_type": "markdown",
   "metadata": {
    "editable": false
   },
   "source": [
    "### Question 1.2 - Count Approach - Code Solution"
   ]
  },
  {
   "cell_type": "code",
   "execution_count": null,
   "metadata": {},
   "outputs": [],
   "source": [
    "# Write your code solution here. \n",
    "\n",
    "def word_count(temp_text):\n",
    "    '''Return the number of words'''\n",
    "    # num_words: the number of words in the string temp_text\n",
    "    return num_word"
   ]
  },
  {
   "cell_type": "code",
   "execution_count": null,
   "metadata": {
    "editable": false
   },
   "outputs": [],
   "source": [
    "# Run this cell to check your second solution.\n",
    "\n",
    "test_text = \"This sentence will be used to check your answer. It is not a long sentence.\"\n",
    "\n",
    "CheckWordCount(word_count, test_text)"
   ]
  },
  {
   "cell_type": "markdown",
   "metadata": {
    "editable": false
   },
   "source": [
    "### Question 1.3 - Loop Approach - ChatGPT Description"
   ]
  },
  {
   "cell_type": "markdown",
   "metadata": {
    "editable": false
   },
   "source": [
    "To count the number of words, the function iterates through each character in the string using a `for` loop. For each character, it checks if it is a space character (represented by the string `\" \"`). If the character is a space, the function increments a counter variable by 1. This way, the function counts the number of spaces in the string, which is equivalent to the number of words minus 1.\n",
    "\n",
    "The function starts with a counter of 1 and increments it for each space character it finds, it will end up with the correct count of words in the string, including the first word which doesn't have any space before it."
   ]
  },
  {
   "cell_type": "markdown",
   "metadata": {
    "editable": false
   },
   "source": [
    "### Question 1.3 - Loop Approach - Code Solution"
   ]
  },
  {
   "cell_type": "code",
   "execution_count": null,
   "metadata": {},
   "outputs": [],
   "source": [
    "# Write your code solution here.\n",
    "\n",
    "def word_count(temp_text):\n",
    "    '''Return the number of words'''\n",
    "    # num_words: the number of words in the string temp_text\n",
    "    return num_word"
   ]
  },
  {
   "cell_type": "code",
   "execution_count": null,
   "metadata": {
    "editable": false
   },
   "outputs": [],
   "source": [
    "# Run this cell to check your third solution.\n",
    "\n",
    "test_text = \"This sentence will be used to check your answer. It is not a long sentence.\"\n",
    "\n",
    "CheckWordCount(word_count, test_text)"
   ]
  },
  {
   "cell_type": "markdown",
   "metadata": {
    "editable": false
   },
   "source": [
    "## Question 2\n",
    "\n",
    "If you did the assignment for a class with Dr. John Majikas what solution did you submit for this problem? \n",
    "\n",
    "If you did not answer this question in an assignment, give the solution you would have submitted from your solutions above. "
   ]
  },
  {
   "cell_type": "code",
   "execution_count": null,
   "metadata": {},
   "outputs": [],
   "source": [
    "# Fill in your single response solution\n",
    "\n",
    "def word_count(temp_text):\n",
    "    '''Return the number of words'''\n",
    "    # num_words: the number of words in the string temp_text\n",
    "    return num_word"
   ]
  },
  {
   "cell_type": "markdown",
   "metadata": {
    "editable": false
   },
   "source": [
    "## Question 3\n",
    "\n",
    "How strongly do you agree with the given statements? Give answers in the **Google Form**. \n",
    "\n",
    "### Question 3.1 \n",
    "\n",
    "Before submitting the assignment, I developed, either through code, written text, or in my head, the **Split Approach** solution. \n",
    "\n",
    "Select **Strongly Agree** if your solution was at least as detailed as the given above ChatGPT description. Select **Strongly Disagree** if you had no idea how `split()` could be used. Use intermediate answers to reflect the extent to which you thought of various aspects of the solution in the ChatGPT description. \n",
    "\n",
    "### Question 3.2\n",
    "\n",
    "Before submitting the assignment, I developed, either through code, written text, or in my head, the **Count Approach** solution. \n",
    "\n",
    "Select **Strongly Agree** if your solution was at least as detailed as the given above ChatGPT description. Select **Strongly Disagree** if you had no idea how `count()` could be used. Use intermediate answers to reflect the extent to which you thought of various aspects of the solution in the ChatGPT description. \n",
    "\n",
    "### Question 3.3 \n",
    "\n",
    "Before submitting the assignment, I developed, either through code, written text, or in my head, the **Loop Approach** solution. \n",
    "\n",
    "Select **Strongly Agree** if your solution was at least as detailed as the given above ChatGPT description. Select **Strongly Disagree** if you had no idea how you would examine each character in a string to determine the number of words in the string. Use intermediate answers to reflect the extent to which you thought of various aspects of the solution in the ChatGPT description. "
   ]
  },
  {
   "cell_type": "markdown",
   "metadata": {
    "editable": false
   },
   "source": [
    "## Question 4\n",
    "\n",
    "How strongly do you agree with the given statements? Give answers in the **Google Form**. \n",
    "\n",
    "### Question 4.1\n",
    "\n",
    "My learning would have been enhanced from seeing the ChatGPT description of the **Split Approach**. Your answer might depend on the level of detail to which you considered it.  \n",
    "\n",
    "### Question 4.2\n",
    "\n",
    "My learning would have been enhanced from seeing the ChatGPT description of the **Count Approach**. Your answer might depend on the level of detail to which you considered it.\n",
    "\n",
    "### Question 4.3\n",
    "\n",
    "My learning would have been enhanced from seeing the ChatGPT description of the **Loop Approach**. Your answer might depend on the level of detail to which you considered it."
   ]
  },
  {
   "cell_type": "markdown",
   "metadata": {
    "editable": false
   },
   "source": [
    "## Question 5\n",
    "\n",
    "How strongly do you agree with the given statements? Give answers in the **Google Form**. \n",
    "\n",
    "### Question 5.1\n",
    "\n",
    "Converting the **Split Approach** ChatGPT solution into code increased my learning and understanding of the problem. Your answer can depend on how you answered **Question 3 & 4**. \n",
    "\n",
    "### Question 5.2\n",
    "\n",
    "Converting the **Count Approach** ChatGPT solution into code increased my learning and understanding of the problem. Your answer can depend on how you answered **Question 3 & 4**.\n",
    "\n",
    "### Question 5.3\n",
    "\n",
    "Converting the **Loop Approach** ChatGPT solution into code increased my learning and understanding of the problem. Your answer can depend on how you answered **Question 3 & 4**."
   ]
  },
  {
   "cell_type": "markdown",
   "metadata": {
    "editable": false
   },
   "source": [
    "## Question 6 - Setup\n",
    "\n",
    "Study the solution labeled as **S4** and try to understand how it works. "
   ]
  },
  {
   "cell_type": "markdown",
   "metadata": {
    "editable": false
   },
   "source": [
    "### S4 - Solution 4 - Code"
   ]
  },
  {
   "cell_type": "code",
   "execution_count": null,
   "metadata": {
    "editable": false
   },
   "outputs": [],
   "source": [
    "def word_count(temp_text):\n",
    "    '''Return the number of words'''\n",
    "    \n",
    "    num_words = 0\n",
    "    for word in temp_text.split():\n",
    "        num_words += len(word.split())\n",
    "    \n",
    "    # num_words: the number of words in the string temp_text\n",
    "    return num_words"
   ]
  },
  {
   "cell_type": "markdown",
   "metadata": {
    "editable": false
   },
   "source": [
    "## Question 6 - Style Feedback\n",
    "\n",
    "This solution does produce the correct return value, but the solution's style could be improved by implementing **either** of the given feedback statements. \n",
    "\n",
    "1. Consider replacing the `len(word.split())` with `1` because `len(word.split())` will always evalute to `1` when used in this `for` loop context. \n",
    "\n",
    "\n",
    "2. Consider removing the `for word in temp_text.split():` and replacing which string is used in the `len(word.split())` statement. "
   ]
  },
  {
   "cell_type": "markdown",
   "metadata": {
    "editable": false
   },
   "source": [
    "## Question 6 \n",
    "\n",
    "Assume that you are a student who submitted **Solution 4**. Answer how strongly you agree with the following statements. Give answers in the **Google Form**. \n",
    "\n",
    "### Question 6.1 \n",
    "\n",
    "I would have benefited from seeing the style feedback given above prior to submitting the assignment. \n",
    "\n",
    "### Question 6.2 \n",
    "\n",
    "Assuming it is not possible or desirable to get style feedback before submitting, I would have benefited from seeing this feedback after the assignment is submitted and graded. \n",
    "\n",
    "### Question 6.3 \n",
    "\n",
    "Assuming I did not get style feedback before or after I submitted the assignment, I should have gotten fewer points for giving this solution."
   ]
  },
  {
   "cell_type": "markdown",
   "metadata": {
    "editable": false
   },
   "source": [
    "## Question 7 - Setup \n",
    "\n",
    "Examine the solution to `word_count` labeled as **Solution 5** given below. Try to understand the algorithm used to solve the problem. "
   ]
  },
  {
   "cell_type": "markdown",
   "metadata": {
    "editable": false
   },
   "source": [
    "### S5 - Solution 5 - Code "
   ]
  },
  {
   "cell_type": "code",
   "execution_count": null,
   "metadata": {
    "editable": false
   },
   "outputs": [],
   "source": [
    "def word_count(temp_text):\n",
    "    '''Return the number of words'''\n",
    "    \n",
    "    for x in range(len(temp_text)):\n",
    "        sentence=temp_text.split()\n",
    "        num_words=len(sentence)\n",
    "    \n",
    "    # num_words: the number of words in the string temp_text\n",
    "    return num_words"
   ]
  },
  {
   "cell_type": "markdown",
   "metadata": {
    "editable": false
   },
   "source": [
    "## Question 7 - Potential Style Feedback \n",
    "\n",
    "Below are five style feedback statements. Some of these feedback statements **may not be correct**. Read the feedback carefully. \n",
    "\n",
    "1. Consider removing the `for x in range(len(temp_text))` and replacing with `for x in temp_text` so you don't have to reference characters by index variable `x`. \n",
    "\n",
    "2. Consider removing the `for x in range(len(temp_text))` completely since the value of `x` is not used in the given `for` loop. \n",
    "\n",
    "3. Consider renaming `x` in `for x in range(len(temp_text))` to `index` since `x` represents an index position in the string `temp_text`. \n",
    "\n",
    "4. Consider removing `sentence=temp_text.split()` and replacing with `if temp_text[x] == ' ':`. Also change `num_words=len(sentence)` to `num_words +=1`. \n",
    "\n",
    "5. Consider moving `num_words=len(sentence)` after the `for` loop and not inside the `for` loop. \n",
    "\n"
   ]
  },
  {
   "cell_type": "markdown",
   "metadata": {
    "editable": false
   },
   "source": [
    "## Question 7 \n",
    "\n",
    "Answer the following based on **Solution 5** and the corresponding **Style Feedback**. Give answers in the **Google Form**. \n",
    "\n",
    "### Question 7.1 \n",
    "\n",
    "Which style advice do you think it is appropriate to give to improve the style of **Solution 5**? You may choose more than one. Assume **only one** piece of advice is given as feedback. \n",
    "\n",
    "### Question 7.2 \n",
    "\n",
    "As a human, what advice would you give to a person to correct the style of **Solution 5**. Give as many details as you can in english (without writing code).  "
   ]
  },
  {
   "cell_type": "markdown",
   "metadata": {
    "editable": false
   },
   "source": [
    "## Question 8 - Setup\n",
    "\n",
    "Imagine we took the solutions to this problem given above and defined them in two different categories. These categories are as follows: \n",
    "\n",
    "- Canonical Solutions - These are solutions that use **either** the **Split Approach**, **Count Approach**, or **Loop Approach**. Solutions **1,2, and 3** are canonical solutions.\n",
    "\n",
    "- Hybrid Solutions - These are solutions that use a **combination** of `split()`, `count()`, and `for/if`. Solutions **4 and 5** are hybrid solutions. "
   ]
  },
  {
   "cell_type": "markdown",
   "metadata": {},
   "source": [
    "## Question 8 \n",
    "\n",
    "Imagine you are an instructor teaching a class with over 100 students. Give answers in the **Google Form**. \n",
    "\n",
    "\n",
    "### Question 8.1 \n",
    "\n",
    "Fill in what percentage of students you think would give **Canonical** vs **Hybrid** solutions if this problem was given on an assignment. "
   ]
  },
  {
   "cell_type": "markdown",
   "metadata": {
    "editable": false
   },
   "source": [
    "## Question 9\n",
    "\n",
    "Imagine you are the instructor of Comp116 and you notice some students submitted hybrid solution. Answer how strongly you agree with the following statements. Give answers in the **Google Form**. \n",
    "\n",
    "\n",
    "### Question 9.1 \n",
    "\n",
    "If there was enough time in class, I would take class time to address some of the hybrid solutions with the goal of improving student coding style.\n",
    "\n",
    "### Question 9.2 \n",
    "\n",
    "Based on these hybrid solutions, I would take time in class to re-teach some of the concepts used to solve the `word_count` problem. \n",
    "\n",
    "### Question 9.3 \n",
    "\n",
    "I would create a document describing some hybrid solution and how their style could be improved."
   ]
  },
  {
   "cell_type": "markdown",
   "metadata": {},
   "source": [
    "## End Exercise\n",
    "\n",
    "**Be sure to save your notebook a final time after filling in your final answers.** \n",
    "\n",
    "Follow submission instructions in the survey carefully. "
   ]
  }
 ],
 "metadata": {
  "celltoolbar": "Edit Metadata",
  "kernelspec": {
   "display_name": "Python 3 (ipykernel)",
   "language": "python",
   "name": "python3"
  },
  "language_info": {
   "codemirror_mode": {
    "name": "ipython",
    "version": 3
   },
   "file_extension": ".py",
   "mimetype": "text/x-python",
   "name": "python",
   "nbconvert_exporter": "python",
   "pygments_lexer": "ipython3",
   "version": "3.10.6"
  },
  "vscode": {
   "interpreter": {
    "hash": "b0fa6594d8f4cbf19f97940f81e996739fb7646882a419484c72d19e05852a7e"
   }
  }
 },
 "nbformat": 4,
 "nbformat_minor": 4
}
