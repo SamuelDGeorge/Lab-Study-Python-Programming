{
 "cells": [
  {
   "cell_type": "markdown",
   "metadata": {
    "editable": false
   },
   "source": [
    "# Lab Study - Python Programming and Various Solutions"
   ]
  },
  {
   "cell_type": "markdown",
   "metadata": {
    "editable": false
   },
   "source": [
    "## Import Helper Package\n",
    "\n",
    "Run the cell below to load packages for the study."
   ]
  },
  {
   "cell_type": "code",
   "execution_count": null,
   "metadata": {
    "editable": false
   },
   "outputs": [],
   "source": [
    "# Run this cell\n",
    "from StudyHelper import CheckSyllableCount,StudySetup"
   ]
  },
  {
   "cell_type": "markdown",
   "metadata": {
    "editable": false
   },
   "source": [
    "## Setup Study Variables\n",
    "\n",
    "To help organize the study data, please provide a **unique_id** and \n",
    "**course_taken** in the cell below. \n",
    "\n",
    "If you took Comp 116 with Dr. John Majikas, please use your **assigned student id** and \n",
    "a string representing the course you took as **unique_id** and **course_taken** respectively. \n",
    "\n",
    "For example, if you were 'student011' in John's course that was taught in Fall 2020 please set values as shown below.\n",
    "\n",
    "unique_id=\"student011\"\n",
    "\n",
    "course_taken=\"Fall2020\"\n",
    "\n",
    "If you did not take Comp 116 with Dr. John Majikas, please use a personal identifier as **unique_id** and \"independent\" as **course_taken**. "
   ]
  },
  {
   "cell_type": "code",
   "execution_count": null,
   "metadata": {},
   "outputs": [],
   "source": [
    "# Edit the below variables and run this cell. \n",
    "\n",
    "unique_id=\"PutUniqueIDHere\"\n",
    "\n",
    "course_taken='FillCourseStringHere'\n"
   ]
  },
  {
   "cell_type": "markdown",
   "metadata": {
    "editable": false
   },
   "source": [
    "## Study Startup\n",
    "\n",
    "Run the below cell to prepare for study. \n",
    "\n",
    "If you take a break, that is fine, just make sure to re-run the notebook from the top to the cell below. "
   ]
  },
  {
   "cell_type": "code",
   "execution_count": null,
   "metadata": {
    "editable": false
   },
   "outputs": [],
   "source": [
    "# Run this cell before working on study.\n",
    "notebook = \"Study_Notebook_Comp116_A3_Q3.ipynb\"\n",
    "study_identifier = \"Lab_Study_Comp116_A3_Q3_Spring_2023\"\n",
    "StudySetup(unique_id, course_taken, notebook, study_identifier)"
   ]
  },
  {
   "cell_type": "markdown",
   "metadata": {},
   "source": [
    "# Lab Study \n",
    "\n",
    "This lab study will focus on **Question 3** from **Assignment 3** in Dr. John Majikas beginner data science class (Comp 116). \n",
    "\n",
    "The only hint given for Assignment 3 was: \n",
    "\n",
    "**Note:** useful string methods are `count()` and `split()` and `endswith()`"
   ]
  },
  {
   "cell_type": "markdown",
   "metadata": {},
   "source": [
    "## Given Question\n",
    "\n",
    "## Q3: Write the function `syllable_count` that returns `num_syllables`\n",
    "\n",
    "For this question, we will use a **customized** definition for syllables. \n",
    "\n",
    "A Syllable is\n",
    "* any word with 3 or less characters;\n",
    "* any vowel (\"a\", \"e\", \"i\", \"o\", \"u\", ) EXCEPT endings of \"es,\" \"ed,\" or \"e\" in words with 4 or more characters;\n",
    "* the ending of \"le\" in words with 4 or more characters (Special Case);\n",
    "\n",
    "For example, **USING THESE RULES** \"tea\", \"pry\", \"cycle\" all contain only 1 syllable and \"Apple\", \"book\" and \"guide\" all contain 2 syllables.  Note that this is an active area of research, and you can find many examples of syllable counting on the internet!\n",
    "\n",
    "You may find these two functions useful. \n",
    "* `lower()`, documation: https://www.w3schools.com/python/ref_string_lower.asp\n",
    "* `isalpha()`, documation: https://www.w3schools.com/python/ref_string_isalpha.asp "
   ]
  },
  {
   "cell_type": "code",
   "execution_count": null,
   "metadata": {
    "editable": false
   },
   "outputs": [],
   "source": [
    "# Question 3 function to fill\n",
    "\n",
    "def syllable_count(temp_text):\n",
    "    '''Return the number of syllables'''\n",
    "    # num_syllables: the number of syllables in the string temp_text\n",
    "    return num_syllables"
   ]
  },
  {
   "cell_type": "markdown",
   "metadata": {
    "editable": false
   },
   "source": [
    "## Lab Study - Part 1 \n",
    "\n",
    "Below you are given several cells to fill in the `syllable_count` function. Please give as many solutions to this word count function that you can think of. Three placeholders and a corresponding check are given to you, however if you can think of additonal solutions, add an additional cells with the same pattern given. Also, if you think of less than three solutions, just leave the additional function definitions as they are without a solution. "
   ]
  },
  {
   "cell_type": "code",
   "execution_count": null,
   "metadata": {},
   "outputs": [],
   "source": [
    "## First Solution Here\n",
    "\n",
    "def syllable_count(temp_text):\n",
    "    '''Return the number of syllables'''\n",
    "    # num_syllables: the number of syllables in the string temp_text\n",
    "    return num_syllables"
   ]
  },
  {
   "cell_type": "code",
   "execution_count": null,
   "metadata": {},
   "outputs": [],
   "source": [
    "# Run this cell to check your first solution.\n",
    "\n",
    "test_text_easy = 'Only the words are given with no punctuation'\n",
    "test_text_medium = 'The sentence now contains, to make the test harder, punctuation.'\n",
    "test_text_hard = 'This \\'sentence\\' - meant to push the limit (your function limit) - will stump \\\n",
    "all but the most well-informed and \"fancy\" function. Have you ever even seen a [brace thing] or \\\n",
    "{bracket thing} in a sentence? What about dashes: cycle-check. I got this right; did you get this right? If you did: wow.'\n",
    "\n",
    "print(\"Easy Result:\")\n",
    "CheckSyllableCount(syllable_count, test_text_easy)\n",
    "\n",
    "print(\"Medium Result:\")\n",
    "CheckSyllableCount(syllable_count, test_text_medium)\n",
    "\n",
    "print(\"Hard Result:\")\n",
    "CheckSyllableCount(syllable_count, test_text_hard)"
   ]
  },
  {
   "cell_type": "code",
   "execution_count": null,
   "metadata": {},
   "outputs": [],
   "source": [
    "## Second Solution Here\n",
    "\n",
    "def syllable_count(temp_text):\n",
    "    '''Return the number of syllables'''\n",
    "    # num_syllables: the number of syllables in the string temp_text\n",
    "    return num_syllables"
   ]
  },
  {
   "cell_type": "code",
   "execution_count": null,
   "metadata": {},
   "outputs": [],
   "source": [
    "# Run this cell to check your second solution.\n",
    "\n",
    "test_text_easy = 'Only the words are given with no punctuation'\n",
    "test_text_medium = 'The sentence now contains, to make the test harder, punctuation.'\n",
    "test_text_hard = 'This \\'sentence\\' - meant to push the limit (your function limit) - will stump \\\n",
    "all but the most well-informed and \"fancy\" function. Have you ever even seen a [brace thing] or \\\n",
    "{bracket thing} in a sentence? What about dashes: cycle-check. I got this right; did you get this right? If you did: wow.'\n",
    "\n",
    "print(\"Easy Result:\")\n",
    "CheckSyllableCount(syllable_count, test_text_easy)\n",
    "\n",
    "print(\"Medium Result:\")\n",
    "CheckSyllableCount(syllable_count, test_text_medium)\n",
    "\n",
    "print(\"Hard Result:\")\n",
    "CheckSyllableCount(syllable_count, test_text_hard)"
   ]
  },
  {
   "cell_type": "code",
   "execution_count": null,
   "metadata": {},
   "outputs": [],
   "source": [
    "## Third Solution Here\n",
    "\n",
    "def syllable_count(temp_text):\n",
    "    '''Return the number of syllables'''\n",
    "    # num_syllables: the number of syllables in the string temp_text\n",
    "    return num_syllables"
   ]
  },
  {
   "cell_type": "code",
   "execution_count": null,
   "metadata": {},
   "outputs": [],
   "source": [
    "# Run this cell to check your Third solution.\n",
    "\n",
    "test_text_easy = 'Only the words are given with no punctuation'\n",
    "test_text_medium = 'The sentence now contains, to make the test harder, punctuation.'\n",
    "test_text_hard = 'This \\'sentence\\' - meant to push the limit (your function limit) - will stump \\\n",
    "all but the most well-informed and \"fancy\" function. Have you ever even seen a [brace thing] or \\\n",
    "{bracket thing} in a sentence? What about dashes: cycle-check. I got this right; did you get this right? If you did: wow.'\n",
    "\n",
    "print(\"Easy Result:\")\n",
    "CheckSyllableCount(syllable_count, test_text_easy)\n",
    "\n",
    "print(\"Medium Result:\")\n",
    "CheckSyllableCount(syllable_count, test_text_medium)\n",
    "\n",
    "print(\"Hard Result:\")\n",
    "CheckSyllableCount(syllable_count, test_text_hard)"
   ]
  },
  {
   "cell_type": "code",
   "execution_count": null,
   "metadata": {},
   "outputs": [],
   "source": [
    "#Space for additional solution\n"
   ]
  },
  {
   "cell_type": "code",
   "execution_count": null,
   "metadata": {},
   "outputs": [],
   "source": [
    "# Space for additional check\n",
    "\n"
   ]
  },
  {
   "cell_type": "markdown",
   "metadata": {},
   "source": [
    "## End Study - Part 1"
   ]
  },
  {
   "cell_type": "markdown",
   "metadata": {},
   "source": [
    "## Lab Study - Part 2"
   ]
  },
  {
   "cell_type": "code",
   "execution_count": null,
   "metadata": {},
   "outputs": [],
   "source": []
  }
 ],
 "metadata": {
  "celltoolbar": "Edit Metadata",
  "kernelspec": {
   "display_name": "Python 3 (ipykernel)",
   "language": "python",
   "name": "python3"
  },
  "language_info": {
   "codemirror_mode": {
    "name": "ipython",
    "version": 3
   },
   "file_extension": ".py",
   "mimetype": "text/x-python",
   "name": "python",
   "nbconvert_exporter": "python",
   "pygments_lexer": "ipython3",
   "version": "3.10.6"
  },
  "vscode": {
   "interpreter": {
    "hash": "b0fa6594d8f4cbf19f97940f81e996739fb7646882a419484c72d19e05852a7e"
   }
  }
 },
 "nbformat": 4,
 "nbformat_minor": 4
}
