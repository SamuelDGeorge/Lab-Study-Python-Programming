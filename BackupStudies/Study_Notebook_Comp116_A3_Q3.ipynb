{
 "cells": [
  {
   "cell_type": "markdown",
   "metadata": {
    "editable": false
   },
   "source": [
    "# Lab Study - Python Programming and Various Solutions"
   ]
  },
  {
   "cell_type": "markdown",
   "metadata": {
    "editable": false
   },
   "source": [
    "## Import Helper Package\n",
    "\n",
    "Run the cell below to load packages for the study."
   ]
  },
  {
   "cell_type": "code",
   "execution_count": null,
   "metadata": {
    "editable": false
   },
   "outputs": [],
   "source": [
    "# Run this cell\n",
    "from StudyHelper import CheckSyllableCount,StudySetup"
   ]
  },
  {
   "cell_type": "markdown",
   "metadata": {
    "editable": false
   },
   "source": [
    "## Setup Study Variables\n",
    "\n",
    "To help organize the study data, please provide a **unique_id** and \n",
    "**course_taken** in the cell below. \n",
    "\n",
    "If you took Comp 116 with Dr. John Majikas, please use your **assigned student id** and \n",
    "a string representing the course you took as **unique_id** and **course_taken** respectively. \n",
    "\n",
    "For example, if you were 'student011' in John's course that was taught in Fall 2020 please set values as shown below.\n",
    "\n",
    "unique_id=\"student011\"\n",
    "\n",
    "course_taken=\"Fall2020\"\n",
    "\n",
    "If you did not take Comp 116 with Dr. John Majikas, please use a personal identifier as **unique_id** and \"independent\" as **course_taken**. "
   ]
  },
  {
   "cell_type": "code",
   "execution_count": null,
   "metadata": {},
   "outputs": [],
   "source": [
    "# Edit the below variables and run this cell. \n",
    "\n",
    "unique_id=\"PutUniqueIDHere\"\n",
    "\n",
    "course_taken='FillCourseStringHere'\n"
   ]
  },
  {
   "cell_type": "markdown",
   "metadata": {
    "editable": false
   },
   "source": [
    "## Study Startup\n",
    "\n",
    "Run the below cell to prepare for study. \n",
    "\n",
    "If you take a break, that is fine, just make sure to re-run the notebook from the top to the cell below. "
   ]
  },
  {
   "cell_type": "code",
   "execution_count": null,
   "metadata": {
    "editable": false
   },
   "outputs": [],
   "source": [
    "# Run this cell before working on study.\n",
    "notebook = \"Study_Notebook_Comp116_A3_Q3.ipynb\"\n",
    "study_identifier = \"Lab_Study_Comp116_A3_Q3_Spring_2023\"\n",
    "StudySetup(unique_id, course_taken, notebook, study_identifier)"
   ]
  },
  {
   "cell_type": "markdown",
   "metadata": {},
   "source": [
    "# Lab Study \n",
    "\n",
    "This lab study will focus on **Question 3** from **Assignment 3** in Dr. John Majikas beginner data science class (Comp 116). \n",
    "\n",
    "The only hint given for Assignment 3 was: \n",
    "\n",
    "**Note:** useful string methods are `count()` and `split()` and `endswith()`"
   ]
  },
  {
   "cell_type": "markdown",
   "metadata": {},
   "source": [
    "## Given Question\n",
    "\n",
    "## Q3: Write the function `syllable_count` that returns `num_syllables`\n",
    "\n",
    "For this question, we will use a **customized** definition for syllables. \n",
    "\n",
    "A Syllable is\n",
    "* any word with 3 or less characters;\n",
    "* any vowel (\"a\", \"e\", \"i\", \"o\", \"u\", ) EXCEPT endings of \"es,\" \"ed,\" or \"e\" in words with 4 or more characters;\n",
    "* the ending of \"le\" in words with 4 or more characters (Special Case);\n",
    "\n",
    "For example, **USING THESE RULES** \"tea\", \"pry\", \"cycle\" all contain only 1 syllable and \"Apple\", \"book\" and \"guide\" all contain 2 syllables.  Note that this is an active area of research, and you can find many examples of syllable counting on the internet!\n",
    "\n",
    "You may find these two functions useful. \n",
    "* `lower()`, documation: https://www.w3schools.com/python/ref_string_lower.asp\n",
    "* `isalpha()`, documation: https://www.w3schools.com/python/ref_string_isalpha.asp "
   ]
  },
  {
   "cell_type": "code",
   "execution_count": null,
   "metadata": {
    "editable": false
   },
   "outputs": [],
   "source": [
    "# Question 3 function to fill\n",
    "\n",
    "def syllable_count(temp_text):\n",
    "    '''Return the number of syllables'''\n",
    "    # num_syllables: the number of syllables in the string temp_text\n",
    "    return num_syllables"
   ]
  },
  {
   "cell_type": "markdown",
   "metadata": {
    "editable": false
   },
   "source": [
    "## Lab Study - Part 1 \n",
    "\n",
    "Below you are given several cells to fill in the `syllable_count` function. Please give as many solutions to this word count function that you can think of. Three placeholders and a corresponding check are given to you, however if you can think of additonal solutions, add an additional cells with the same pattern given. Also, if you think of less than three solutions, just leave the additional function definitions as they are without a solution. "
   ]
  },
  {
   "cell_type": "code",
   "execution_count": null,
   "metadata": {},
   "outputs": [],
   "source": [
    "## First Solution Here\n",
    "\n",
    "def syllable_count(temp_text):\n",
    "    '''Return the number of syllables'''\n",
    "    # num_syllables: the number of syllables in the string temp_text\n",
    "    return num_syllables"
   ]
  },
  {
   "cell_type": "code",
   "execution_count": null,
   "metadata": {},
   "outputs": [],
   "source": [
    "# Run this cell to check your first solution.\n",
    "\n",
    "test_text_easy = 'Only the words are given with no punctuation'\n",
    "test_text_medium = 'The sentence now contains, to make the test harder, punctuation.'\n",
    "test_text_hard = 'This \\'sentence\\' - meant to push the limit (your function limit) - will stump \\\n",
    "all but the most well-informed and \"fancy\" function. Have you ever even seen a [brace thing] or \\\n",
    "{bracket thing} in a sentence? What about dashes: cycle-check. I got this right; did you get this right? If you did: wow.'\n",
    "\n",
    "print(\"Easy Result:\")\n",
    "CheckSyllableCount(syllable_count, test_text_easy)\n",
    "\n",
    "print(\"Medium Result:\")\n",
    "CheckSyllableCount(syllable_count, test_text_medium)\n",
    "\n",
    "print(\"Hard Result:\")\n",
    "CheckSyllableCount(syllable_count, test_text_hard)"
   ]
  },
  {
   "cell_type": "code",
   "execution_count": null,
   "metadata": {},
   "outputs": [],
   "source": [
    "## Second Solution Here\n",
    "\n",
    "def syllable_count(temp_text):\n",
    "    '''Return the number of syllables'''\n",
    "    # num_syllables: the number of syllables in the string temp_text\n",
    "    return num_syllables"
   ]
  },
  {
   "cell_type": "code",
   "execution_count": null,
   "metadata": {},
   "outputs": [],
   "source": [
    "# Run this cell to check your second solution.\n",
    "\n",
    "test_text_easy = 'Only the words are given with no punctuation'\n",
    "test_text_medium = 'The sentence now contains, to make the test harder, punctuation.'\n",
    "test_text_hard = 'This \\'sentence\\' - meant to push the limit (your function limit) - will stump \\\n",
    "all but the most well-informed and \"fancy\" function. Have you ever even seen a [brace thing] or \\\n",
    "{bracket thing} in a sentence? What about dashes: cycle-check. I got this right; did you get this right? If you did: wow.'\n",
    "\n",
    "print(\"Easy Result:\")\n",
    "CheckSyllableCount(syllable_count, test_text_easy)\n",
    "\n",
    "print(\"Medium Result:\")\n",
    "CheckSyllableCount(syllable_count, test_text_medium)\n",
    "\n",
    "print(\"Hard Result:\")\n",
    "CheckSyllableCount(syllable_count, test_text_hard)"
   ]
  },
  {
   "cell_type": "code",
   "execution_count": null,
   "metadata": {},
   "outputs": [],
   "source": [
    "## Third Solution Here\n",
    "\n",
    "def syllable_count(temp_text):\n",
    "    '''Return the number of syllables'''\n",
    "    # num_syllables: the number of syllables in the string temp_text\n",
    "    return num_syllables"
   ]
  },
  {
   "cell_type": "code",
   "execution_count": null,
   "metadata": {},
   "outputs": [],
   "source": [
    "# Run this cell to check your Third solution.\n",
    "\n",
    "test_text_easy = 'Only the words are given with no punctuation'\n",
    "test_text_medium = 'The sentence now contains, to make the test harder, punctuation.'\n",
    "test_text_hard = 'This \\'sentence\\' - meant to push the limit (your function limit) - will stump \\\n",
    "all but the most well-informed and \"fancy\" function. Have you ever even seen a [brace thing] or \\\n",
    "{bracket thing} in a sentence? What about dashes: cycle-check. I got this right; did you get this right? If you did: wow.'\n",
    "\n",
    "print(\"Easy Result:\")\n",
    "CheckSyllableCount(syllable_count, test_text_easy)\n",
    "\n",
    "print(\"Medium Result:\")\n",
    "CheckSyllableCount(syllable_count, test_text_medium)\n",
    "\n",
    "print(\"Hard Result:\")\n",
    "CheckSyllableCount(syllable_count, test_text_hard)"
   ]
  },
  {
   "cell_type": "code",
   "execution_count": null,
   "metadata": {},
   "outputs": [],
   "source": [
    "#Space for additional solution\n"
   ]
  },
  {
   "cell_type": "code",
   "execution_count": null,
   "metadata": {},
   "outputs": [],
   "source": [
    "# Space for additional check\n",
    "\n"
   ]
  },
  {
   "cell_type": "markdown",
   "metadata": {},
   "source": [
    "## Interesting Solutions"
   ]
  },
  {
   "cell_type": "code",
   "execution_count": null,
   "metadata": {},
   "outputs": [],
   "source": [
    "student_sol_a =  \"# cell 8 of 14\\n\\ndef syllable_count(temp_text):\\n    '''Return the number of syllables'''\\n    # num_syllables: the number of syllables in the string temp_text\\n    #temp_text = text\\n    text_new=temp_text.lower()\\n    list_possible_words = text_new.split()\\n    #print(list_possible_words)\\n    list_words = []\\n    for word_ in list_possible_words:\\n        if word_.isalpha() == True:\\n            list_words.append(word_)\\n        else:\\n            new_word_ = word_[:len(word_)-1]\\n            list_words.append(new_word_)\\n    #print(list_words)\\n\\n    num_syllables = 0\\n    for word in list_words:\\n        if len(word)<=3:\\n            num_syllables+=1\\n        elif word.endswith('es')==True:\\n            new_word=word[:len(word)-2]\\n            sum_vowels = new_word.count('a')+new_word.count('e')+new_word.count('i')+new_word.count('o')+new_word.count('u')\\n            num_syllables+=sum_vowels\\n        elif word.endswith('ed')==True:\\n            new_word=word[:len(word)-2]\\n            sum_vowels = new_word.count('a')+new_word.count('e')+new_word.count('i')+new_word.count('o')+new_word.count('u')\\n            num_syllables+=sum_vowels\\n        elif word.endswith('e')==True:\\n            new_word=word[:len(word)-1]\\n            sum_vowels = new_word.count('a')+new_word.count('e')+new_word.count('i')+new_word.count('o')+new_word.count('u')\\n            num_syllables+=sum_vowels\\n            if new_word.endswith('l')==True:\\n                num_syllables+=1\\n        else:\\n            sum_vowels = word.count('a')+word.count('e')+word.count('i')+word.count('o')+word.count('u')\\n            num_syllables+=sum_vowels\\n    #print(num_syllables)\\n    return num_syllables\\n\"\n",
    "student_sol_b = \"# cell 8 of 14\\n\\ndef syllable_count(temp_text):\\n    '''Return the number of syllables'''\\n    # num_syllables: the number of syllables in the string temp_text\\n    \\n    num_syllables = 0\\n    for word in temp_text.split():\\n            if not (word[0].isalpha() or word[0].isdigit()):\\n                 word = word[1:]\\n            if not (word [-1].isalpha() or word[-1].isdigit()):\\n                word = word[:-1]\\n            if len(word) <= 3:\\n                num_syllables = num_syllables + 1\\n            else: \\n                word = word.lower()\\n                for vowel in ['a','e','i','o','u']:\\n                    num_syllables = num_syllables + word.count(vowel)\\n                for ending in ['es','ed','e']:\\n                    if word.endswith(ending):\\n                        num_syllables = num_syllables - 1\\n                if word.endswith('le'):\\n                    num_syllables = num_syllables + 1\\n    return num_syllables\\n\"\n",
    "student_sol_c = \"# cell 8 of 14\\n\\ndef syllable_count(temp_text):\\n    '''Return the number of syllables'''\\n    # num_syllables: the number of syllables in the string temp_text\\n    \\n    \\n    temp_text = temp_text.lower()\\n    num_syllables = 0\\n    new1 = \\\"\\\"\\n    \\n    #for i in temp_text:\\n        #if i.isalpha() == False and i != \\\" \\\" and i != \\\"-\\\":\\n            #temp_text = temp_text.replace(i,'')\\n            \\n    for i in temp_text:\\n        if i.isalpha() == True or i.isdigit()== True:\\n            new1 = new1 + i\\n        elif i == \\\" \\\":\\n            new1 = new1 + \\\" \\\"\\n        \\n            \\n    #print(new1)\\n    \\n    var1 = new1.split()\\n    \\n    #print(var1)\\n    \\n    for i in range(len(var1)):\\n        if len(var1[i]) <= 3:\\n            num_syllables = num_syllables + 1\\n        else:\\n            num_syllables = num_syllables + var1[i].count(\\\"a\\\") + var1[i].count(\\\"e\\\") + var1[i].count(\\\"i\\\") \\\\\\n            + var1[i].count(\\\"o\\\") + var1[i].count(\\\"u\\\")  \\n            \\n            if var1[i].endswith(\\\"es\\\"):\\n                    num_syllables = num_syllables - 1\\n            if var1[i].endswith(\\\"ed\\\"):\\n                    num_syllables = num_syllables - 1\\n            if var1[i].endswith(\\\"e\\\") and var1[i].endswith(\\\"le\\\") == False:\\n                    num_syllables = num_syllables - 1\\n            \\n                      \\n    \\n    return num_syllables\\n\\n\\n\""
   ]
  },
  {
   "cell_type": "code",
   "execution_count": null,
   "metadata": {},
   "outputs": [],
   "source": [
    "print(student_sol_c)"
   ]
  },
  {
   "cell_type": "code",
   "execution_count": null,
   "metadata": {},
   "outputs": [],
   "source": [
    "#causes error on hard check\n",
    "def syllable_count(temp_text):\n",
    "    '''Return the number of syllables'''\n",
    "    # num_syllables: the number of syllables in the string temp_text\n",
    "    \n",
    "    num_syllables = 0\n",
    "    for word in temp_text.split():\n",
    "            if not (word[0].isalpha() or word[0].isdigit()):\n",
    "                 word = word[1:]\n",
    "            if not (word [-1].isalpha() or word[-1].isdigit()):\n",
    "                word = word[:-1]\n",
    "            if len(word) <= 3:\n",
    "                num_syllables = num_syllables + 1\n",
    "            else: \n",
    "                word = word.lower()\n",
    "                for vowel in ['a','e','i','o','u']:\n",
    "                    num_syllables = num_syllables + word.count(vowel)\n",
    "                for ending in ['es','ed','e']:\n",
    "                    if word.endswith(ending):\n",
    "                        num_syllables = num_syllables - 1\n",
    "                if word.endswith('le'):\n",
    "                    num_syllables = num_syllables + 1\n",
    "    return num_syllables\n"
   ]
  },
  {
   "cell_type": "code",
   "execution_count": null,
   "metadata": {},
   "outputs": [],
   "source": [
    "# Doesn't cover all edge cases\n",
    "\n",
    "def syllable_count(temp_text):\n",
    "    '''Return the number of syllables'''\n",
    "    # num_syllables: the number of syllables in the string temp_text\n",
    "    #temp_text = text\n",
    "    text_new=temp_text.lower()\n",
    "    list_possible_words = text_new.split()\n",
    "    #print(list_possible_words)\n",
    "    list_words = []\n",
    "    for word_ in list_possible_words:\n",
    "        if word_.isalpha() == True:\n",
    "            list_words.append(word_)\n",
    "        else:\n",
    "            new_word_ = word_[:len(word_)-1]\n",
    "            list_words.append(new_word_)\n",
    "    #print(list_words)\n",
    "\n",
    "    num_syllables = 0\n",
    "    for word in list_words:\n",
    "        if len(word)<=3:\n",
    "            num_syllables+=1\n",
    "        elif word.endswith('es')==True:\n",
    "            new_word=word[:len(word)-2]\n",
    "            sum_vowels = new_word.count('a')+new_word.count('e')+new_word.count('i')+new_word.count('o')+new_word.count('u')\n",
    "            num_syllables+=sum_vowels\n",
    "        elif word.endswith('ed')==True:\n",
    "            new_word=word[:len(word)-2]\n",
    "            sum_vowels = new_word.count('a')+new_word.count('e')+new_word.count('i')+new_word.count('o')+new_word.count('u')\n",
    "            num_syllables+=sum_vowels\n",
    "        elif word.endswith('e')==True:\n",
    "            new_word=word[:len(word)-1]\n",
    "            sum_vowels = new_word.count('a')+new_word.count('e')+new_word.count('i')+new_word.count('o')+new_word.count('u')\n",
    "            num_syllables+=sum_vowels\n",
    "            if new_word.endswith('l')==True:\n",
    "                num_syllables+=1\n",
    "        else:\n",
    "            sum_vowels = word.count('a')+word.count('e')+word.count('i')+word.count('o')+word.count('u')\n",
    "            num_syllables+=sum_vowels\n",
    "    #print(num_syllables)\n",
    "    return num_syllables"
   ]
  },
  {
   "cell_type": "code",
   "execution_count": null,
   "metadata": {},
   "outputs": [],
   "source": [
    "#works for all\n",
    "\n",
    "def syllable_count(temp_text):\n",
    "    '''Return the number of syllables'''\n",
    "    # num_syllables: the number of syllables in the string temp_text\n",
    "    \n",
    "    \n",
    "    temp_text = temp_text.lower()\n",
    "    num_syllables = 0\n",
    "    new1 = \"\"\n",
    "    \n",
    "    #for i in temp_text:\n",
    "        #if i.isalpha() == False and i != \" \" and i != \"-\":\n",
    "            #temp_text = temp_text.replace(i,'')\n",
    "            \n",
    "    for i in temp_text:\n",
    "        if i.isalpha() == True or i.isdigit()== True:\n",
    "            new1 = new1 + i\n",
    "        elif i == \" \":\n",
    "            new1 = new1 + \" \"\n",
    "        \n",
    "            \n",
    "    #print(new1)\n",
    "    \n",
    "    var1 = new1.split()\n",
    "    \n",
    "    #print(var1)\n",
    "    \n",
    "    for i in range(len(var1)):\n",
    "        if len(var1[i]) <= 3:\n",
    "            num_syllables = num_syllables + 1\n",
    "        else:\n",
    "            num_syllables = num_syllables + var1[i].count(\"a\") + var1[i].count(\"e\") + var1[i].count(\"i\") \\\n",
    "            + var1[i].count(\"o\") + var1[i].count(\"u\")  \n",
    "            \n",
    "            if var1[i].endswith(\"es\"):\n",
    "                    num_syllables = num_syllables - 1\n",
    "            if var1[i].endswith(\"ed\"):\n",
    "                    num_syllables = num_syllables - 1\n",
    "            if var1[i].endswith(\"e\") and var1[i].endswith(\"le\") == False:\n",
    "                    num_syllables = num_syllables - 1\n",
    "            \n",
    "                      \n",
    "    \n",
    "    return num_syllables"
   ]
  },
  {
   "cell_type": "code",
   "execution_count": null,
   "metadata": {},
   "outputs": [],
   "source": [
    "# How the check does it \n",
    "\n",
    "def syllable_count(test):\n",
    "    sol = 0 \n",
    "\n",
    "    #strip punctuation\n",
    "    striped = ''\n",
    "    for char in test:\n",
    "        #preserve space\n",
    "        if char == ' ':\n",
    "            striped += ' '\n",
    "            continue\n",
    "        #handle dashed words\n",
    "        if char == '-':\n",
    "            striped += ' '\n",
    "            continue\n",
    "        #remove all other punctuation\n",
    "        if char.isalpha():\n",
    "                striped += char\n",
    "\n",
    "    for i in striped.split():\n",
    "        #lowercase all\n",
    "        t = i.lower()\n",
    "        #3 character words\n",
    "        if len(t) <= 3:\n",
    "            sol += 1\n",
    "            continue \n",
    "            \n",
    "        #handle special endings\n",
    "        if t[-2:] in ['es','ed']:\n",
    "            t = t[:-2]\n",
    "        elif t[-1:] == 'e' and t[-2:] != 'le':\n",
    "            t = t[:-1]\n",
    "        \n",
    "        #count remaining vowels \n",
    "        for v in ['a','e','i','o','u']:\n",
    "            sol += t.count(v)\n",
    "    return sol"
   ]
  },
  {
   "cell_type": "code",
   "execution_count": null,
   "metadata": {},
   "outputs": [],
   "source": [
    "# Run this cell to check your Third solution.\n",
    "\n",
    "test_text_easy = 'Only the words are given with no punctuation'\n",
    "test_text_medium = 'The sentence now contains, to make the test harder, punctuation.'\n",
    "test_text_hard = 'This \\'sentence\\' - meant to push the limit (your function limit) - will stump \\\n",
    "all but the most well-informed and \"fancy\" function. Have you ever even seen a [brace thing] or \\\n",
    "{bracket thing} in a sentence? What about dashes: cycle-check. I got this right; did you get this right? If you did: wow.'\n",
    "\n",
    "print(\"Easy Result:\")\n",
    "CheckSyllableCount(syllable_count, test_text_easy)\n",
    "\n",
    "print(\"Medium Result:\")\n",
    "CheckSyllableCount(syllable_count, test_text_medium)\n",
    "\n",
    "print(\"Hard Result:\")\n",
    "CheckSyllableCount(syllable_count, test_text_hard)"
   ]
  },
  {
   "cell_type": "markdown",
   "metadata": {},
   "source": [
    "## End Study - Part 1"
   ]
  },
  {
   "cell_type": "markdown",
   "metadata": {},
   "source": [
    "## Lab Study - Part 2"
   ]
  },
  {
   "cell_type": "code",
   "execution_count": null,
   "metadata": {},
   "outputs": [],
   "source": []
  }
 ],
 "metadata": {
  "celltoolbar": "Edit Metadata",
  "kernelspec": {
   "display_name": "Python 3 (ipykernel)",
   "language": "python",
   "name": "python3"
  },
  "language_info": {
   "codemirror_mode": {
    "name": "ipython",
    "version": 3
   },
   "file_extension": ".py",
   "mimetype": "text/x-python",
   "name": "python",
   "nbconvert_exporter": "python",
   "pygments_lexer": "ipython3",
   "version": "3.10.6"
  },
  "vscode": {
   "interpreter": {
    "hash": "b0fa6594d8f4cbf19f97940f81e996739fb7646882a419484c72d19e05852a7e"
   }
  }
 },
 "nbformat": 4,
 "nbformat_minor": 4
}
