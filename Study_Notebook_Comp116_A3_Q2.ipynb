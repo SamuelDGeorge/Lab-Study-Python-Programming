{
 "cells": [
  {
   "cell_type": "markdown",
   "metadata": {
    "editable": false
   },
   "source": [
    "# Lab Study - Python Programming and Various Solutions"
   ]
  },
  {
   "cell_type": "markdown",
   "metadata": {
    "editable": false
   },
   "source": [
    "## Import Helper Package\n",
    "\n",
    "Run the cell below to load packages for the study."
   ]
  },
  {
   "cell_type": "code",
   "execution_count": null,
   "metadata": {
    "editable": false
   },
   "outputs": [],
   "source": [
    "# Run this cell\n",
    "from StudyHelper import CheckWordCount,StudySetup"
   ]
  },
  {
   "cell_type": "markdown",
   "metadata": {
    "editable": false
   },
   "source": [
    "## Setup Study Variables\n",
    "\n",
    "To help organize the study data, please provide a **unique_id** and \n",
    "**course_taken** in the cell below. \n",
    "\n",
    "If you took Comp 116 with Dr. John Majikas, please use your **assigned student id** and \n",
    "a string representing the course you took as **unique_id** and **course_taken** respectively. \n",
    "\n",
    "For example, if you were 'student011' in John's course that was taught in Fall 2020 please set values as shown below.\n",
    "\n",
    "unique_id=\"student011\"\n",
    "\n",
    "course_taken=\"Fall2020\"\n",
    "\n",
    "If you did not take Comp 116 with Dr. John Majikas, please use a personal identifier as **unique_id** and \"independent\" as **course_taken**. "
   ]
  },
  {
   "cell_type": "code",
   "execution_count": null,
   "metadata": {},
   "outputs": [],
   "source": [
    "# Edit the below variables and run this cell. \n",
    "\n",
    "unique_id=\"PutUniqueIDHere\"\n",
    "\n",
    "course_taken='FillCourseStringHere'\n"
   ]
  },
  {
   "cell_type": "markdown",
   "metadata": {
    "editable": false
   },
   "source": [
    "## Study Startup\n",
    "\n",
    "Run the below cell to prepare for study. \n",
    "\n",
    "If you take a break, that is fine, just make sure to re-run the notebook from the top to the cell below. "
   ]
  },
  {
   "cell_type": "code",
   "execution_count": null,
   "metadata": {
    "editable": false
   },
   "outputs": [],
   "source": [
    "# Run this cell before working on study.\n",
    "notebook = \"Study_Notebook_Comp116_A3_Q2.ipynb\"\n",
    "study_identifier = \"Lab_Study_Comp116_A3_Q2_Spring_2023\"\n",
    "StudySetup(unique_id, course_taken, notebook, study_identifier)"
   ]
  },
  {
   "cell_type": "markdown",
   "metadata": {
    "editable": false
   },
   "source": [
    "# Lab Study \n",
    "\n",
    "This lab study will focus on **Question 2** from **Assignment 3** in Dr. John Majikas beginner data science class (Comp 116). \n",
    "\n",
    "The only hint given for Assignment 3 was: \n",
    "\n",
    "**Note:** useful string methods are `count()` and `split()` and `endswith()`"
   ]
  },
  {
   "cell_type": "markdown",
   "metadata": {
    "editable": false
   },
   "source": [
    "## Given Question\n",
    "\n",
    "## Q2: Write a function `word_count` that returns `num_words`, which is the number of words in a string. \n",
    "**You can assume there is no space within a word.**\n",
    "\n",
    "This question required you to fill in the function given below. "
   ]
  },
  {
   "cell_type": "code",
   "execution_count": null,
   "metadata": {
    "editable": false
   },
   "outputs": [],
   "source": [
    "# Question 2 function to fill\n",
    "\n",
    "def word_count(temp_text):\n",
    "    '''Return the number of words'''\n",
    "    # num_words: the number of words in the string temp_text\n",
    "    return num_word"
   ]
  },
  {
   "cell_type": "markdown",
   "metadata": {},
   "source": [
    "## Lab Study - Part 1 "
   ]
  },
  {
   "cell_type": "markdown",
   "metadata": {},
   "source": [
    "### Question 1.1 \n",
    "\n",
    "Below you are given several cells to fill in the `word_count` function. Please give as many solutions to this word count function that you can think of. Three placeholders and a corresponding check are given to you, however if you can think of additonal solutions, add an additional cells with the same pattern given. Also, if you think of less than three solutions, just leave the additional function definitions as they are without a solution."
   ]
  },
  {
   "cell_type": "code",
   "execution_count": null,
   "metadata": {},
   "outputs": [],
   "source": [
    "## First Solution Here\n",
    "\n",
    "def word_count(temp_text):\n",
    "    '''Return the number of words'''\n",
    "    # num_words: the number of words in the string temp_text\n",
    "    return num_word"
   ]
  },
  {
   "cell_type": "code",
   "execution_count": null,
   "metadata": {
    "editable": false
   },
   "outputs": [],
   "source": [
    "# Run this cell to check your first solution.\n",
    "\n",
    "test_text = \"This sentence will be used to check your answer.\"\n",
    "\n",
    "CheckWordCount(word_count, test_text)"
   ]
  },
  {
   "cell_type": "code",
   "execution_count": null,
   "metadata": {},
   "outputs": [],
   "source": [
    "## Second Solution Here\n",
    "\n",
    "def word_count(temp_text):\n",
    "    '''Return the number of words'''\n",
    "    # num_words: the number of words in the string temp_text\n",
    "    return num_word"
   ]
  },
  {
   "cell_type": "code",
   "execution_count": null,
   "metadata": {
    "editable": false
   },
   "outputs": [],
   "source": [
    "# Run this cell to check your second solution.\n",
    "\n",
    "test_text = \"This sentence will be used to check your answer.\"\n",
    "\n",
    "CheckWordCount(word_count, test_text)"
   ]
  },
  {
   "cell_type": "code",
   "execution_count": null,
   "metadata": {},
   "outputs": [],
   "source": [
    "## Third Solution Here\n",
    "\n",
    "def word_count(temp_text):\n",
    "    '''Return the number of words'''\n",
    "    # num_words: the number of words in the string temp_text\n",
    "    return num_word"
   ]
  },
  {
   "cell_type": "code",
   "execution_count": null,
   "metadata": {
    "editable": false
   },
   "outputs": [],
   "source": [
    "# Run this cell to check your Third solution.\n",
    "\n",
    "test_text = \"This sentence will be used to check your answer.\"\n",
    "\n",
    "CheckWordCount(word_count, test_text)"
   ]
  },
  {
   "cell_type": "code",
   "execution_count": null,
   "metadata": {},
   "outputs": [],
   "source": [
    "# Add additional word_count solutions here\n",
    "\n"
   ]
  },
  {
   "cell_type": "code",
   "execution_count": null,
   "metadata": {},
   "outputs": [],
   "source": [
    "# Space for additional check\n",
    "\n"
   ]
  },
  {
   "cell_type": "markdown",
   "metadata": {},
   "source": [
    "### Question 1.2\n",
    "\n",
    "If you were asked to submit only one of the solutions you gave above, which one would you submit? \n",
    "\n",
    "Copy the code for that solution in the cell below. If you did the assignment for a class with Dr. John Majikas, you may choose the solution you gave for his assignment or another solution. "
   ]
  },
  {
   "cell_type": "code",
   "execution_count": null,
   "metadata": {},
   "outputs": [],
   "source": [
    "# Fill in your single response solution\n",
    "\n",
    "def word_count(temp_text):\n",
    "    '''Return the number of words'''\n",
    "    # num_words: the number of words in the string temp_text\n",
    "    return num_word"
   ]
  },
  {
   "cell_type": "markdown",
   "metadata": {},
   "source": [
    "### Question 1.3 \n",
    "\n",
    "Why did you choose the single solution above? \n",
    "\n",
    "Put your answer in the cell below."
   ]
  },
  {
   "cell_type": "markdown",
   "metadata": {},
   "source": [
    "Answer to **Question 1.3**:\n",
    "    \n"
   ]
  },
  {
   "cell_type": "markdown",
   "metadata": {},
   "source": [
    "### Question 1.4 \n",
    "\n",
    "If you did the problem during an assignment in Dr. John Majikas class, did you think of all the solutions you gave above at the time of the assignment? \n",
    "\n",
    "Put your answer in the cell below. "
   ]
  },
  {
   "cell_type": "markdown",
   "metadata": {},
   "source": [
    "Answer to **Question 1.4**: \n",
    "\n"
   ]
  },
  {
   "cell_type": "markdown",
   "metadata": {},
   "source": [
    "## End Study - Part 1"
   ]
  },
  {
   "cell_type": "markdown",
   "metadata": {},
   "source": [
    "## Lab Study - Part 2\n",
    "\n",
    "Begin by examining the code and/or text description for the five given solutions to **Question 2** from **Assignment 3**. \n",
    "\n",
    "Solutions in subsequent questions will be referred to as **S1**, **S2**, etc. "
   ]
  },
  {
   "cell_type": "markdown",
   "metadata": {},
   "source": [
    "### Solution 1 - Code "
   ]
  },
  {
   "cell_type": "code",
   "execution_count": null,
   "metadata": {},
   "outputs": [],
   "source": [
    "def word_count(temp_text):\n",
    "    '''Return the number of words'''\n",
    "    \n",
    "    num_words = len(temp_text.split())\n",
    "    \n",
    "    # num_words: the number of words in the string temp_text\n",
    "    return num_words"
   ]
  },
  {
   "cell_type": "markdown",
   "metadata": {},
   "source": [
    "### Solution 1 - Code Text Description"
   ]
  },
  {
   "cell_type": "markdown",
   "metadata": {},
   "source": [
    "The `word_count` function takes in a string `temp_text` as input. The function: \n",
    "\n",
    "1. Splits the string into a list of words using the `split()` method. \n",
    "\n",
    "2. Counts the number of words in the list using the `length()` function and assigns that value to `num_words`. \n",
    "\n",
    "3. Returns `num_words` as output."
   ]
  },
  {
   "cell_type": "markdown",
   "metadata": {},
   "source": [
    "### Solution 2 - Code "
   ]
  },
  {
   "cell_type": "code",
   "execution_count": null,
   "metadata": {},
   "outputs": [],
   "source": [
    "def word_count(temp_text):\n",
    "    '''Return the number of words'''\n",
    "    \n",
    "    num_words = 0\n",
    "    for word in temp_text.split():\n",
    "        num_words += len(word.split())\n",
    "    \n",
    "    # num_words: the number of words in the string temp_text\n",
    "    return num_words"
   ]
  },
  {
   "cell_type": "markdown",
   "metadata": {},
   "source": [
    "### Solution 2 - Code Text Description"
   ]
  },
  {
   "cell_type": "markdown",
   "metadata": {},
   "source": [
    "The `word_count` function takes in a string `temp_text` as input. The function: \n",
    "\n",
    "1. Initializes a variable `num_words` to zero. \n",
    "\n",
    "2. Loops through the words in the input string by using the `split()` method. \n",
    "\n",
    "3. For each word in the list, the function increases the variable `num_words` by the length of a single word on which the `split()` function has been called.\n",
    "\n",
    "4. Returns `num_words` as output."
   ]
  },
  {
   "cell_type": "markdown",
   "metadata": {},
   "source": [
    "### Solution 3 - Code"
   ]
  },
  {
   "cell_type": "code",
   "execution_count": null,
   "metadata": {},
   "outputs": [],
   "source": [
    "def word_count(temp_text):\n",
    "    '''Return the number of words'''\n",
    "    \n",
    "    num_words= temp_text.count(' ') + 1\n",
    "    \n",
    "    # num_words: the number of words in the string temp_text\n",
    "    return num_words"
   ]
  },
  {
   "cell_type": "markdown",
   "metadata": {},
   "source": [
    "### Solution 3 - Code Text Description"
   ]
  },
  {
   "cell_type": "markdown",
   "metadata": {},
   "source": [
    "The `word_count` function takes in a string `temp_text` as input. The function: \n",
    "\n",
    "1. Counts the number of spaces in the string using the count() method. \n",
    "\n",
    "2. Adds 1 to the count to accomodate for the last word that doesn't have a space after it and assigns that value to `num_words`.\n",
    "\n",
    "3. Returns `num_words` as output."
   ]
  },
  {
   "cell_type": "markdown",
   "metadata": {},
   "source": [
    "### Solution 4 - Code "
   ]
  },
  {
   "cell_type": "code",
   "execution_count": null,
   "metadata": {},
   "outputs": [],
   "source": [
    "def word_count(temp_text):\n",
    "    '''Return the number of words'''\n",
    "    \n",
    "    num_words = 1\n",
    "    for i in temp_text:\n",
    "        if i == \" \":\n",
    "            num_words+=1\n",
    "    \n",
    "    # num_words: the number of words in the string temp_text\n",
    "    return num_words"
   ]
  },
  {
   "cell_type": "markdown",
   "metadata": {},
   "source": [
    "### Solution 4 - Code Text Description "
   ]
  },
  {
   "cell_type": "markdown",
   "metadata": {},
   "source": [
    "The `word_count` function takes in a string `temp_text` as input. The function: \n",
    "\n",
    "\n",
    "1. Initializes a variable num_words to 1, since the first word in the string does not have a space before it. \n",
    "\n",
    "2. Iterates through each character in the string using a `for` loop. \n",
    "\n",
    "3. If the character is a space, the function increments the `num_words` variable by 1, which indicates the start of a new word. \n",
    "\n",
    "4. Returns `num_words` as output."
   ]
  },
  {
   "cell_type": "markdown",
   "metadata": {},
   "source": [
    "### Solution 5 - Code "
   ]
  },
  {
   "cell_type": "code",
   "execution_count": null,
   "metadata": {},
   "outputs": [],
   "source": [
    "def word_count(temp_text):\n",
    "    '''Return the number of words'''\n",
    "    \n",
    "    for x in range(len(temp_text)):\n",
    "        sentence=temp_text.split()\n",
    "        num_words=len(sentence)\n",
    "    \n",
    "    # num_words: the number of words in the string temp_text\n",
    "    return num_words"
   ]
  },
  {
   "cell_type": "markdown",
   "metadata": {},
   "source": [
    "### Solution 5 - Code Text Description"
   ]
  },
  {
   "cell_type": "markdown",
   "metadata": {},
   "source": [
    "The `word_count` function takes in a string `temp_text` as input. The function: \n",
    "\n",
    "1. Uses a `for` loop to iterate over the indices of the string. \n",
    "\n",
    "2. Inside the loop, the function splits the input string into a list of words using the split() method.\n",
    "\n",
    "3. Assigns the resulting list to a variable called sentence. \n",
    "\n",
    "4. Sets the variable `num_words` to the length of the `sentence` list. which gives the number of words in the string. \n",
    "\n",
    "5. Returns `num_words` as output."
   ]
  },
  {
   "cell_type": "markdown",
   "metadata": {},
   "source": [
    "### Question 2.1\n",
    "\n",
    "In the table below fill in the rows with what percentage of students you think would give each of the solutions above if the problem was given to a large (> 100 person) class. To give your answer replace the `---` with an `x` on the given row. Note, the first line of `---` is filler. Do not modify this line. "
   ]
  },
  {
   "cell_type": "markdown",
   "metadata": {},
   "source": [
    "| Solution | 0% - 20% | 21% - 40% | 41% - 60% | 61% - 80% | 81% to 100% |\n",
    "| --- | --- | --- | ---- | ---- | ---- |\n",
    "| Sample Answer | --- | --- | X | ---- | ---- |\n",
    "| S1 | --- | --- | ---- | ---- | ---- |\n",
    "| S2 | --- | --- | ---- | ---- | ---- |\n",
    "| S3 | --- | --- | ---- | ---- | ---- |\n",
    "| S4 | --- | --- | ---- | ---- | ---- |\n",
    "| S5 | --- | --- | ---- | ---- | ---- |\n",
    "| Another Solution | --- | --- | ---- | ---- | ---- |"
   ]
  },
  {
   "cell_type": "markdown",
   "metadata": {},
   "source": [
    "### Question 2.2 \n",
    "\n",
    "How would you rank the **Readability**, **Efficiency**, and **Effort** of each solution? \n",
    "\n",
    "Below are definitions of these three catagories. For each solution, fill in the table with how you would **rank** that solution in comparison with the others. If you think two solutions have the same rank, it is ok to give duplicate ranking. For example, if you think S1 and S3 are both equally readable and are the most readable among solutions give both S1 and S3 a rank of 1.   \n",
    "\n",
    "**Readability** - A measure of how easy is it to understand the algorithm used by the solution.\n",
    "\n",
    "**Efficiency** - A measure of the computational efficiency of the solution.\n",
    "\n",
    "**Effort** - A meassure of how difficult the solution was to program. "
   ]
  },
  {
   "cell_type": "markdown",
   "metadata": {},
   "source": [
    "| Solution | **Readability** | **Efficiency** | **Effort**|\n",
    "| --- | --- | --- | --- |\n",
    "| S1 | --- | --- | --- |\n",
    "| S2 | --- | --- | --- |\n",
    "| S3 | --- | --- | --- |\n",
    "| S4 | --- | --- | --- |\n",
    "| S5 | --- | --- | --- |"
   ]
  },
  {
   "cell_type": "markdown",
   "metadata": {},
   "source": [
    "### Question 2.3 \n",
    "\n",
    "Suppose you decided to grade by looking at the code instead of running a check to determine correctness. What level of credit would you give each solution. \n",
    "\n",
    "Fill in the table below with your answer. "
   ]
  },
  {
   "cell_type": "markdown",
   "metadata": {},
   "source": [
    "| Solution | **Full Credit** | **Partial Credit** | **No Credit**|\n",
    "| --- | --- | --- | --- |\n",
    "| Sample Answer | --- | X | --- |\n",
    "| S1 | --- | --- | --- |\n",
    "| S2 | --- | --- | --- |\n",
    "| S3 | --- | --- | --- |\n",
    "| S4 | --- | --- | --- |\n",
    "| S5 | --- | --- | --- |"
   ]
  },
  {
   "cell_type": "markdown",
   "metadata": {},
   "source": [
    "### Question 2.4 \n",
    "\n",
    "All of these solutions were given during a real-world assignment. If you were teaching a course and gave this assignment, would you choose to address or re-teach any of the concepts taught in the course after seeing this set of solutions? \n",
    "\n",
    "Write your answer in the cell below. "
   ]
  },
  {
   "cell_type": "markdown",
   "metadata": {},
   "source": [
    "Answer to **Question 2.4**: \n",
    "\n"
   ]
  },
  {
   "cell_type": "markdown",
   "metadata": {},
   "source": [
    "## End Study - Part 2"
   ]
  },
  {
   "cell_type": "code",
   "execution_count": null,
   "metadata": {},
   "outputs": [],
   "source": []
  }
 ],
 "metadata": {
  "celltoolbar": "Edit Metadata",
  "kernelspec": {
   "display_name": "Python 3 (ipykernel)",
   "language": "python",
   "name": "python3"
  },
  "language_info": {
   "codemirror_mode": {
    "name": "ipython",
    "version": 3
   },
   "file_extension": ".py",
   "mimetype": "text/x-python",
   "name": "python",
   "nbconvert_exporter": "python",
   "pygments_lexer": "ipython3",
   "version": "3.10.6"
  },
  "vscode": {
   "interpreter": {
    "hash": "b0fa6594d8f4cbf19f97940f81e996739fb7646882a419484c72d19e05852a7e"
   }
  }
 },
 "nbformat": 4,
 "nbformat_minor": 4
}
