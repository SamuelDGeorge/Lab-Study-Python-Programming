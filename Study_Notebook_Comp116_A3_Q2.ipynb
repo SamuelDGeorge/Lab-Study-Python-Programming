{
 "cells": [
  {
   "cell_type": "markdown",
   "metadata": {
    "editable": false
   },
   "source": [
    "# Lab Study - Python Programming and Various Solutions"
   ]
  },
  {
   "cell_type": "markdown",
   "metadata": {
    "editable": false
   },
   "source": [
    "## Import Helper Package\n",
    "\n",
    "Run the cell below to load packages for the study."
   ]
  },
  {
   "cell_type": "code",
   "execution_count": null,
   "metadata": {
    "editable": false
   },
   "outputs": [],
   "source": [
    "# Run this cell\n",
    "from StudyHelper import CheckWordCount,StudySetup"
   ]
  },
  {
   "cell_type": "markdown",
   "metadata": {
    "editable": false
   },
   "source": [
    "## Setup Study Variables\n",
    "\n",
    "To help organize the study data, please provide a **unique_id** and \n",
    "**course_taken** in the cell below. \n",
    "\n",
    "If you took Comp 116 with Dr. John Majikas, please use your **assigned student id** and \n",
    "a string representing the course you took as **unique_id** and **course_taken** respectively. \n",
    "\n",
    "For example, if you were 'student011' in John's course that was taught in Fall 2020 please set values as shown below.\n",
    "\n",
    "unique_id=\"student011\"\n",
    "\n",
    "course_taken=\"Fall2020\"\n",
    "\n",
    "If you did not take Comp 116 with Dr. John Majikas, please use a personal identifier as **unique_id** and \"independent\" as **course_taken**. "
   ]
  },
  {
   "cell_type": "code",
   "execution_count": null,
   "metadata": {},
   "outputs": [],
   "source": [
    "# Edit the below variables and run this cell. \n",
    "\n",
    "unique_id=\"PutUniqueIDHere\"\n",
    "\n",
    "course_taken='FillCourseStringHere'\n"
   ]
  },
  {
   "cell_type": "markdown",
   "metadata": {
    "editable": false
   },
   "source": [
    "## Study Startup\n",
    "\n",
    "Run the below cell to prepare for study. \n",
    "\n",
    "If you take a break, that is fine, just make sure to re-run the notebook from the top to the cell below. "
   ]
  },
  {
   "cell_type": "code",
   "execution_count": null,
   "metadata": {
    "editable": false
   },
   "outputs": [],
   "source": [
    "# Run this cell before working on study.\n",
    "notebook = \"Study_Notebook_Comp116_A3_Q2.ipynb\"\n",
    "study_identifier = \"Lab_Study_Comp116_A3_Q2_Spring_2023\"\n",
    "StudySetup(unique_id, course_taken, notebook, study_identifier)"
   ]
  },
  {
   "cell_type": "markdown",
   "metadata": {
    "editable": false
   },
   "source": [
    "# Lab Study \n",
    "\n",
    "This lab study will focus on **Question 2** from **Assignment 3** in Dr. John Majikas beginner data science class (Comp 116). \n",
    "\n",
    "The only hint given for Assignment 3 was: \n",
    "\n",
    "**Note:** useful string methods are `count()` and `split()` and `endswith()`"
   ]
  },
  {
   "cell_type": "markdown",
   "metadata": {
    "editable": false
   },
   "source": [
    "## Given Question\n",
    "\n",
    "## Q2: Write a function `word_count` that returns `num_words`, which is the number of words in a string. \n",
    "**You can assume there is no space within a word.**\n",
    "\n",
    "This question required you to fill in the function given below. "
   ]
  },
  {
   "cell_type": "code",
   "execution_count": null,
   "metadata": {
    "editable": false
   },
   "outputs": [],
   "source": [
    "# Question 2 function to fill\n",
    "\n",
    "def word_count(temp_text):\n",
    "    '''Return the number of words'''\n",
    "    # num_words: the number of words in the string temp_text\n",
    "    return num_word"
   ]
  },
  {
   "cell_type": "markdown",
   "metadata": {
    "editable": false
   },
   "source": [
    "## Lab Study - Part 1 \n",
    "\n",
    "Below you are given several cells to fill in the `word_count` function. Please give as many solutions to this word count function that you can think of. Three placeholders and a corresponding check are given to you, however if you can think of additonal solutions, add an additional cells with the same pattern given. Also, if you think of less than three solutions, just leave the additional function definitions as they are without a solution. "
   ]
  },
  {
   "cell_type": "code",
   "execution_count": null,
   "metadata": {},
   "outputs": [],
   "source": [
    "## First Solution Here\n",
    "\n",
    "def word_count(temp_text):\n",
    "    '''Return the number of words'''\n",
    "    # num_words: the number of words in the string temp_text\n",
    "    return num_word"
   ]
  },
  {
   "cell_type": "code",
   "execution_count": null,
   "metadata": {
    "editable": false
   },
   "outputs": [],
   "source": [
    "# Run this cell to check your first solution.\n",
    "\n",
    "test_text = \"This sentence will be used to check your answer.\"\n",
    "\n",
    "CheckWordCount(word_count, test_text)"
   ]
  },
  {
   "cell_type": "code",
   "execution_count": null,
   "metadata": {},
   "outputs": [],
   "source": [
    "## Second Solution Here\n",
    "\n",
    "def word_count(temp_text):\n",
    "    '''Return the number of words'''\n",
    "    # num_words: the number of words in the string temp_text\n",
    "    return num_word"
   ]
  },
  {
   "cell_type": "code",
   "execution_count": null,
   "metadata": {
    "editable": false
   },
   "outputs": [],
   "source": [
    "# Run this cell to check your second solution.\n",
    "\n",
    "test_text = \"This sentence will be used to check your answer.\"\n",
    "\n",
    "CheckWordCount(word_count, test_text)"
   ]
  },
  {
   "cell_type": "code",
   "execution_count": null,
   "metadata": {},
   "outputs": [],
   "source": [
    "## Third Solution Here\n",
    "\n",
    "def word_count(temp_text):\n",
    "    '''Return the number of words'''\n",
    "    # num_words: the number of words in the string temp_text\n",
    "    return num_word"
   ]
  },
  {
   "cell_type": "code",
   "execution_count": null,
   "metadata": {
    "editable": false
   },
   "outputs": [],
   "source": [
    "# Run this cell to check your Third solution.\n",
    "\n",
    "test_text = \"This sentence will be used to check your answer.\"\n",
    "\n",
    "CheckWordCount(word_count, test_text)"
   ]
  },
  {
   "cell_type": "code",
   "execution_count": null,
   "metadata": {},
   "outputs": [],
   "source": [
    "# Add additional word_count solutions here\n",
    "\n"
   ]
  },
  {
   "cell_type": "code",
   "execution_count": null,
   "metadata": {},
   "outputs": [],
   "source": [
    "# Space for additional check\n",
    "\n"
   ]
  },
  {
   "cell_type": "markdown",
   "metadata": {},
   "source": [
    "## End Study - Part 1"
   ]
  },
  {
   "cell_type": "markdown",
   "metadata": {},
   "source": [
    "## Lab Study - Part 2\n",
    "\n",
    "### Free Response \n",
    "\n",
    "Below is a series of questions about your experience in part 1. Please fill in the cell indicated with answers to your questions. "
   ]
  },
  {
   "cell_type": "markdown",
   "metadata": {},
   "source": [
    "### Question 1 \n",
    "\n",
    "Imagine a class is given the problem above and asked to give a single response. What percent of students do you think would give each of your listed solutions. Use numbers to indicate which solution you are reffering to by matching the order of solutions you used in Part 1. You can also list a final **Another Solution** field if you think students will give an answer you did not consider. A sample response should look like: \n",
    "\n",
    "1. 50% \n",
    "2. 25% \n",
    "3. 10%\n",
    "4. Another Solution - 15%"
   ]
  },
  {
   "cell_type": "markdown",
   "metadata": {},
   "source": [
    "Type your answer to question 1 below: \n"
   ]
  },
  {
   "cell_type": "markdown",
   "metadata": {},
   "source": [
    "### Question 2 \n",
    "\n",
    "Imagine you are grading the solutions above. What score out of 100% would you give to each solution and why? Again, number the solutions based on the order you gave and use a **-** to seperate your score from your explination. A sample response should look like: \n",
    "\n",
    "1. 100% - Works fine and effectively uses allowed tools. \n",
    "2. 100% - Works fine and effectively uses allowed tools. \n",
    "3. 80% - Passes checks and works, but is hard to read and inefficient. "
   ]
  },
  {
   "cell_type": "markdown",
   "metadata": {},
   "source": [
    "Type your answer to question 2 below: "
   ]
  },
  {
   "cell_type": "markdown",
   "metadata": {},
   "source": [
    "### Question 3 \n",
    "\n",
    "For each solution you gave, how confident are you that the solution is correct and will pass all edge cases? Again, number your solution and give answers of **High Confidence**, **Middle Confidence**, or **Low Confidence**. A sample response should look like: \n",
    "\n",
    "1. High Confidence \n",
    "2. High Confidence \n",
    "3. Middle Confidence "
   ]
  },
  {
   "cell_type": "markdown",
   "metadata": {},
   "source": [
    "Type your answer to question 3 below: "
   ]
  },
  {
   "cell_type": "markdown",
   "metadata": {},
   "source": [
    "### Question 4 \n",
    "\n",
    "Based on your experience with this lab study, do you think being asked to give multiple solutions to the given problem enhanced your learning? \n",
    "\n",
    "You may simply answer **yes**/**no** or give a more detailed answer. "
   ]
  },
  {
   "cell_type": "markdown",
   "metadata": {},
   "source": [
    "Type your answer to question 2 below: "
   ]
  },
  {
   "cell_type": "code",
   "execution_count": null,
   "metadata": {},
   "outputs": [],
   "source": []
  }
 ],
 "metadata": {
  "celltoolbar": "Edit Metadata",
  "kernelspec": {
   "display_name": "Python 3 (ipykernel)",
   "language": "python",
   "name": "python3"
  },
  "language_info": {
   "codemirror_mode": {
    "name": "ipython",
    "version": 3
   },
   "file_extension": ".py",
   "mimetype": "text/x-python",
   "name": "python",
   "nbconvert_exporter": "python",
   "pygments_lexer": "ipython3",
   "version": "3.10.6"
  },
  "vscode": {
   "interpreter": {
    "hash": "b0fa6594d8f4cbf19f97940f81e996739fb7646882a419484c72d19e05852a7e"
   }
  }
 },
 "nbformat": 4,
 "nbformat_minor": 4
}
